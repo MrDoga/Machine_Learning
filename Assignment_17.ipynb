{
  "nbformat": 4,
  "nbformat_minor": 0,
  "metadata": {
    "colab": {
      "name": "Assignment_17.ipynb",
      "version": "0.3.2",
      "provenance": [],
      "include_colab_link": true
    },
    "kernelspec": {
      "name": "python3",
      "display_name": "Python 3"
    }
  },
  "cells": [
    {
      "cell_type": "markdown",
      "metadata": {
        "id": "view-in-github",
        "colab_type": "text"
      },
      "source": [
        "[View in Colaboratory](https://colab.research.google.com/github/MrDoga/Machine_Learning/blob/master/Assignment_17.ipynb)"
      ]
    },
    {
      "metadata": {
        "id": "-IdmjNyjpR7q",
        "colab_type": "code",
        "colab": {}
      },
      "cell_type": "code",
      "source": [
        "from sklearn import datasets\n",
        "from sklearn.metrics import confusion_matrix, classification_report\n",
        "from sklearn.linear_model import LogisticRegression\n",
        "\n",
        "import matplotlib.pyplot as plt\n",
        "\n",
        "\n",
        "digits = datasets.load_digits()\n",
        "\n",
        "X = digits['data']\n",
        "y = digits['target']"
      ],
      "execution_count": 0,
      "outputs": []
    },
    {
      "metadata": {
        "id": "z8Xa7Jm0rAbx",
        "colab_type": "code",
        "colab": {}
      },
      "cell_type": "code",
      "source": [
        "from sklearn.model_selection import train_test_split\n",
        "from sklearn.preprocessing import StandardScaler\n",
        "\n",
        "sscaler = StandardScaler()\n",
        "X1 = sscaler.fit_transform(X)\n",
        "X_train, X_test, y_train, y_test = train_test_split(X1, y, test_size=0.30, random_state=0)"
      ],
      "execution_count": 0,
      "outputs": []
    },
    {
      "metadata": {
        "id": "91NnYIXurD94",
        "colab_type": "code",
        "colab": {}
      },
      "cell_type": "code",
      "source": [
        "from sklearn.decomposition import PCA\n",
        "pca = PCA(n_components=63)\n",
        "X_train_pca = pca.fit_transform(X_train)"
      ],
      "execution_count": 0,
      "outputs": []
    },
    {
      "metadata": {
        "id": "VfEt8Y0frFaw",
        "colab_type": "code",
        "colab": {
          "base_uri": "https://localhost:8080/",
          "height": 521
        },
        "outputId": "c3d8840b-4fab-46a0-f353-5180aec0ba4c"
      },
      "cell_type": "code",
      "source": [
        "classifier = LogisticRegression(random_state = 0)\n",
        "classifier.fit(X_train, y_train)\n",
        "\n",
        "\n",
        "y_pred = classifier.predict(X_test)\n",
        "\n",
        "print (\"Accuracy score: \", classifier.score(X_test, y_test))\n",
        "print (\"\\nConfusion matrix: \\n\", confusion_matrix(y_test, y_pred))\n",
        "print (\"\\nClassification Report: \\n\", classification_report(y_test, y_pred))"
      ],
      "execution_count": 10,
      "outputs": [
        {
          "output_type": "stream",
          "text": [
            "Accuracy score:  0.9537037037037037\n",
            "\n",
            "Confusion matrix: \n",
            " [[45  0  0  0  0  0  0  0  0  0]\n",
            " [ 0 49  0  0  0  0  1  0  2  0]\n",
            " [ 0  2 50  1  0  0  0  0  0  0]\n",
            " [ 0  0  1 52  0  0  0  0  1  0]\n",
            " [ 0  0  0  0 47  0  0  1  0  0]\n",
            " [ 0  1  0  0  0 55  1  0  0  0]\n",
            " [ 0  1  0  0  0  0 59  0  0  0]\n",
            " [ 0  0  0  2  0  0  0 51  0  0]\n",
            " [ 0  4  1  1  0  0  1  0 53  1]\n",
            " [ 0  0  0  0  0  2  0  1  0 54]]\n",
            "\n",
            "Classification Report: \n",
            "              precision    recall  f1-score   support\n",
            "\n",
            "          0       1.00      1.00      1.00        45\n",
            "          1       0.86      0.94      0.90        52\n",
            "          2       0.96      0.94      0.95        53\n",
            "          3       0.93      0.96      0.95        54\n",
            "          4       1.00      0.98      0.99        48\n",
            "          5       0.96      0.96      0.96        57\n",
            "          6       0.95      0.98      0.97        60\n",
            "          7       0.96      0.96      0.96        53\n",
            "          8       0.95      0.87      0.91        61\n",
            "          9       0.98      0.95      0.96        57\n",
            "\n",
            "avg / total       0.95      0.95      0.95       540\n",
            "\n"
          ],
          "name": "stdout"
        }
      ]
    }
  ]
}