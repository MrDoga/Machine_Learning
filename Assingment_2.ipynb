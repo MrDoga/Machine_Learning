{
  "nbformat": 4,
  "nbformat_minor": 0,
  "metadata": {
    "colab": {
      "name": "Untitled0.ipynb",
      "version": "0.3.2",
      "provenance": [],
      "include_colab_link": true
    },
    "kernelspec": {
      "name": "python3",
      "display_name": "Python 3"
    }
  },
  "cells": [
    {
      "cell_type": "markdown",
      "metadata": {
        "id": "view-in-github",
        "colab_type": "text"
      },
      "source": [
        "[View in Colaboratory](https://colab.research.google.com/github/MrDoga/Machine_Learning/blob/master/Assingment_2.ipynb)"
      ]
    },
    {
      "metadata": {
        "id": "G1sbBLoVjTJg",
        "colab_type": "code",
        "colab": {
          "base_uri": "https://localhost:8080/",
          "height": 185
        },
        "outputId": "1ebd1c1e-36a7-4020-bc0a-09bad42f39be"
      },
      "cell_type": "code",
      "source": [
        "#Q1.  Create a numpy array with 10 elements of the shape(10,1)\n",
        "#using np.random and find out the mean of the elements using basic numpy functions.\n",
        "import numpy as np \n",
        "x = np.random.rand(10,1)\n",
        "y = np.mean(x)#wil give mean output of elements of array\n",
        "print (x)"
      ],
      "execution_count": 0,
      "outputs": [
        {
          "output_type": "stream",
          "text": [
            "[[0.38674107]\n",
            " [0.11534192]\n",
            " [0.53731877]\n",
            " [0.04469999]\n",
            " [0.32116952]\n",
            " [0.44633453]\n",
            " [0.33299467]\n",
            " [0.00320832]\n",
            " [0.55862544]\n",
            " [0.0196656 ]]\n"
          ],
          "name": "stdout"
        }
      ]
    },
    {
      "metadata": {
        "id": "odc_tIm0rWab",
        "colab_type": "code",
        "colab": {
          "base_uri": "https://localhost:8080/",
          "height": 52
        },
        "outputId": "76656d9e-3de2-4c60-d755-e2decc2b2647"
      },
      "cell_type": "code",
      "source": [
        "#Q2. Create a numpy array with 20 elements of the shape(20,1)\n",
        "#using np.random find the variance and standard deviation of the elements.\n",
        "z = np.random.rand(20,1)#array1 with random elements within range 20-1\n",
        "t = np.std(z)\n",
        "g = np.var(z)\n",
        "print (t)\n",
        "print (g)"
      ],
      "execution_count": 24,
      "outputs": [
        {
          "output_type": "stream",
          "text": [
            "0.3287228691107436\n",
            "0.10805872467639907\n"
          ],
          "name": "stdout"
        }
      ]
    },
    {
      "metadata": {
        "id": "3APR4gOwsIU1",
        "colab_type": "code",
        "colab": {
          "base_uri": "https://localhost:8080/",
          "height": 897
        },
        "outputId": "a7d44541-73b8-412e-b0aa-1968101d1970"
      },
      "cell_type": "code",
      "source": [
        "#Q3 Create a numpy array A of shape(10,20) and B of shape (20,25) using np.random.\n",
        "#Print the matrix which is the matrix multiplication of A and B.\n",
        "#The shape of the new matrix should be (10,25).\n",
        "#Using basic numpy math functions only find the sum of all the elements of the new matrix.\n",
        "\n",
        "l = np.random.rand(10,20)#array1 with random elements within range 10-20\n",
        "i = np.random.rand(20,25)#array2 with random elements withing range 20-25\n",
        "p = np.matmul (l,i)#matmul is used for matrix multiplication\n",
        "print (p)\n",
        "h = numpy.add (p) #adding all the elements of matrix\n",
        "print (h) \n"
      ],
      "execution_count": 19,
      "outputs": [
        {
          "output_type": "stream",
          "text": [
            "[[5.88945901 4.21475044 4.82251376 4.15084096 4.15307243 3.71935185\n",
            "  4.27166634 4.70889032 4.40615964 4.72299141 4.4813081  3.10395805\n",
            "  3.7643988  4.88943159 4.36289093 4.40166104 4.55257247 4.76955758\n",
            "  4.6721526  3.91446093 4.55742878 4.31362392 4.24417044 3.89582522\n",
            "  4.7128058 ]\n",
            " [7.87446485 6.09559903 6.21513512 6.36543103 6.02444476 4.59140814\n",
            "  6.0256014  6.07464127 5.85426201 5.91539273 5.97321213 5.77082609\n",
            "  5.24511122 6.13911786 5.68863574 5.925997   7.03932944 6.8664758\n",
            "  6.14925743 5.18356624 7.20185126 5.99234103 5.5404918  5.81150982\n",
            "  6.10978974]\n",
            " [6.1434306  4.53201642 5.02374793 5.35429533 5.81601725 3.13241961\n",
            "  4.12413692 5.23091196 5.13091417 5.60317543 5.76018146 4.3832589\n",
            "  4.7775992  5.84484511 4.38099504 5.77950474 6.47297084 6.58951467\n",
            "  4.76612987 5.02879867 5.22511389 4.83017533 4.53750074 3.99036478\n",
            "  5.05092116]\n",
            " [5.7691671  3.56006606 3.94692609 4.74729168 4.0238979  3.07965113\n",
            "  4.26595999 4.05633308 4.13597415 3.93437324 4.89479944 3.70276058\n",
            "  3.49181725 4.81251231 3.83400925 4.39034115 5.48002984 4.80146727\n",
            "  4.23282263 4.36813899 4.85177207 4.4751634  3.92442291 3.76090732\n",
            "  4.47333304]\n",
            " [6.18170931 4.73911897 4.44558622 4.69248992 4.48856465 3.68939752\n",
            "  4.85003498 4.34047227 4.42885031 4.02467899 4.57688487 3.78485262\n",
            "  3.53997352 4.72892154 3.52093178 4.36560585 4.77096528 5.26303709\n",
            "  4.19027938 4.00874644 5.10685901 3.95427829 4.41144934 4.4258346\n",
            "  4.95929219]\n",
            " [4.23607822 3.23378971 3.54930635 3.39705572 3.62635723 2.10894551\n",
            "  2.23990209 3.45865843 3.1782525  3.73116848 3.57378877 2.79668089\n",
            "  2.63801226 3.74363514 2.66962916 2.99380106 3.50665172 4.25648561\n",
            "  2.99709137 3.41407955 3.85553019 3.03483323 3.12301147 2.27105301\n",
            "  3.26988802]\n",
            " [5.71945132 4.43389232 4.8738488  5.20651442 5.43368435 3.35191633\n",
            "  4.4016423  4.19744947 5.24204717 4.69626928 4.58510572 3.32453156\n",
            "  3.73901134 5.25696226 4.26873203 5.04951161 4.76188357 5.38470443\n",
            "  4.27934851 4.4915828  5.15549745 4.29780188 4.11930561 4.51851831\n",
            "  5.01805219]\n",
            " [5.77821678 4.47121826 4.52387626 4.64625467 4.02875291 3.58821816\n",
            "  4.07957862 4.12511829 3.71215111 3.95753343 4.45389623 4.01779442\n",
            "  3.73026112 4.87127651 4.9838085  4.63073092 4.72958739 4.36994104\n",
            "  4.02840115 3.36481112 4.97818594 4.21912036 3.73361531 3.80873377\n",
            "  4.45313559]\n",
            " [6.44341333 5.29305847 5.84610236 5.47599809 5.53870587 4.10368205\n",
            "  5.0944449  5.04472142 5.20320978 5.16067528 5.60510433 4.12476404\n",
            "  4.27969146 6.00174331 4.57832618 5.17017766 5.55871005 6.02677569\n",
            "  5.38115937 4.60034226 5.99140151 4.08832598 4.7037372  4.6875766\n",
            "  5.1486088 ]\n",
            " [6.65862649 4.68255148 4.73542271 4.90219175 5.03238936 3.70387283\n",
            "  5.0416714  5.35031242 4.93724101 5.20432839 5.14540809 4.40391474\n",
            "  4.35373795 5.39609633 5.15471726 5.34433393 6.0313873  5.9938968\n",
            "  5.27818691 4.61671699 5.6208973  5.59609231 4.45944423 4.84920922\n",
            "  4.79146467]]\n"
          ],
          "name": "stdout"
        }
      ]
    },
    {
      "metadata": {
        "id": "wxaGFdLytCLG",
        "colab_type": "code",
        "colab": {
          "base_uri": "https://localhost:8080/",
          "height": 193
        },
        "outputId": "037170d9-12b6-4f4c-9d47-a6ea6cf3ee94"
      },
      "cell_type": "code",
      "source": [
        "#Q4\n",
        "m = np.random.rand(10,1)\n",
        "b = np.exp(m)\n",
        "print (b)"
      ],
      "execution_count": 23,
      "outputs": [
        {
          "output_type": "stream",
          "text": [
            "[[1.90201607]\n",
            " [2.23625403]\n",
            " [1.27172904]\n",
            " [2.32315295]\n",
            " [1.13602202]\n",
            " [1.93056415]\n",
            " [1.17912295]\n",
            " [1.28767548]\n",
            " [1.24928654]\n",
            " [1.25992892]]\n"
          ],
          "name": "stdout"
        }
      ]
    }
  ]
}